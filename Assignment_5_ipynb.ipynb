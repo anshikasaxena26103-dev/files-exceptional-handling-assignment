{
  "nbformat": 4,
  "nbformat_minor": 0,
  "metadata": {
    "colab": {
      "provenance": []
    },
    "kernelspec": {
      "name": "python3",
      "display_name": "Python 3"
    },
    "language_info": {
      "name": "python"
    }
  },
  "cells": [
    {
      "cell_type": "markdown",
      "source": [
        "# **THEORY QUESTIONS**"
      ],
      "metadata": {
        "id": "BPKZpJfQRcWr"
      }
    },
    {
      "cell_type": "markdown",
      "source": [
        "***Ques1. What is the difference between interpreted and compiled languages***\n",
        "\n",
        "***Ans1***. compiled language > Source code is translated entirely into machine code by a compiler before it is run. The resulting machine code is then run directly by the system.Examples: C, C++.\n",
        "\n",
        "interpreted language > Source code is read and executed line-by-line by an interpreter at runtime.No separate machine code file is created; the interpreter runs the code directly.Examples: Python, JavaScript.\n",
        "\n",
        "\n",
        "***Ques2. What is exception handling in Python***\n",
        "\n",
        "Ans2. Exception handling in Python is a way to gracefully handle errors that occur during the execution of a program, so your program doesn't crash unexpectedly.\n",
        "\n",
        "***Ques3.What is the purpose of the finally block in exception handling?***\n",
        "\n",
        "Ans3. The finally block is used to ensure that certain code always runs, no matter what happens — whether an exception was raised or not.\n",
        "\n",
        "\n",
        "\n"
      ],
      "metadata": {
        "id": "TRd6n0r7RgUH"
      }
    },
    {
      "cell_type": "code",
      "source": [
        "try:\n",
        "    x = int(input(\"Enter a number: \"))\n",
        "    y = 10 / x\n",
        "except ValueError:\n",
        "    print(\"Invalid input: not a number.\")\n",
        "finally:\n",
        "  print(\"done\")"
      ],
      "metadata": {
        "colab": {
          "base_uri": "https://localhost:8080/"
        },
        "id": "x3fHj1xJR5zs",
        "outputId": "b47397e7-b195-4bc4-e426-dcd19de82259"
      },
      "execution_count": null,
      "outputs": [
        {
          "output_type": "stream",
          "name": "stdout",
          "text": [
            "Enter a number: 43\n",
            "done\n"
          ]
        }
      ]
    },
    {
      "cell_type": "markdown",
      "source": [
        "**Ques4. What is logging in Python?**\n",
        "\n",
        "Ans4. Logging in Python is a way to track events that happen while your program runs. It helps you debug, monitor, and understand your program’s behavior without using print statements.Logging is a better alternative to print() for tracking program events\n",
        "~~~\n",
        "import logging\n",
        "logging.basicConfig(filename=\"xyx.txt\",level=logging.INFO)\n",
        "~~~\n",
        "\n"
      ],
      "metadata": {
        "id": "M2FnAi28SUMR"
      }
    },
    {
      "cell_type": "code",
      "source": [
        "import logging\n",
        "logging.basicConfig(filename=\"xyx.txt\",level=logging.INFO)"
      ],
      "metadata": {
        "id": "Z7YUKg8ATOYi"
      },
      "execution_count": null,
      "outputs": []
    },
    {
      "cell_type": "markdown",
      "source": [
        "**Ques5. What is the significance of the __del__ method in Python?**\n",
        "\n",
        "Ans5. The __del__  method is a special method in Python called a destructor. It is automatically invoked when an object is about to be destroyed — i.e., when it is garbage collected.\n",
        "\n",
        "**Ques6. What is the difference between import and from ... import in Python?**\n",
        "\n",
        "Ans6. Both import and from ... import are used to bring external modules or functions into your Python script, but they work differently.\n",
        "\n",
        "Use import when you want the whole module and clear, prefixed access.\n",
        "Use from ... import when you only need specific parts and want cleaner code.\n"
      ],
      "metadata": {
        "id": "jilCrL_BTVqJ"
      }
    },
    {
      "cell_type": "code",
      "source": [
        " from abc import abstractclassmethod"
      ],
      "metadata": {
        "id": "pBzwTM8STjMt"
      },
      "execution_count": null,
      "outputs": []
    },
    {
      "cell_type": "markdown",
      "source": [
        "**Ques7. How can you handle multiple exceptions in Python?**\n",
        "\n",
        "Ans7. In Python, you can handle multiple exceptions using multiple except blocks, or by grouping exceptions in a single block."
      ],
      "metadata": {
        "id": "2k8x1bmuTn4r"
      }
    },
    {
      "cell_type": "code",
      "source": [
        "try:\n",
        "    x = int(input(\"Enter a number: \"))\n",
        "    y = 10 / x\n",
        "except ValueError:\n",
        "    print(\"Invalid input: not a number.\")\n",
        "except ZeroDivisionError:\n",
        "    print(\"You can't divide by zero.\")"
      ],
      "metadata": {
        "colab": {
          "base_uri": "https://localhost:8080/"
        },
        "id": "YksVcGqQTuiu",
        "outputId": "688f7393-db0e-446a-eb33-f3d48f916c3d"
      },
      "execution_count": null,
      "outputs": [
        {
          "name": "stdout",
          "output_type": "stream",
          "text": [
            "Enter a number: 42\n"
          ]
        }
      ]
    },
    {
      "cell_type": "markdown",
      "source": [
        "**Ques8. What is the purpose of the with statement when handling files in Python?**\n",
        "\n",
        "Ans8. The with statement in Python is used to simplify file handling by automatically opening and closing files — even if an error occurs."
      ],
      "metadata": {
        "id": "LrTEVO34T0Vq"
      }
    },
    {
      "cell_type": "code",
      "source": [
        "with open(\"file.txt\",\"w\")as f:\n",
        "   f.write()"
      ],
      "metadata": {
        "id": "0k197OeIT-PT"
      },
      "execution_count": null,
      "outputs": []
    },
    {
      "cell_type": "markdown",
      "source": [
        "**Ques9. What is the difference between multithreading and multiprocessing?**\n",
        "\n",
        "Ans9.\n",
        "> multithreading: Runs multiple threads (smaller tasks) within the same process\n",
        "Threads share the same memory space."
      ],
      "metadata": {
        "id": "lLyvK6zaT--l"
      }
    },
    {
      "cell_type": "code",
      "source": [
        "import threading\n",
        "\n",
        "def task():\n",
        "    print(\"Run\")\n",
        "\n",
        "t = threading.Thread(target=task)\n",
        "t.start()"
      ],
      "metadata": {
        "colab": {
          "base_uri": "https://localhost:8080/"
        },
        "id": "NicfZanMUDRJ",
        "outputId": "e40333c3-36c5-493a-a630-a80434d387b5"
      },
      "execution_count": null,
      "outputs": [
        {
          "output_type": "stream",
          "name": "stdout",
          "text": [
            "Run\n"
          ]
        }
      ]
    },
    {
      "cell_type": "markdown",
      "source": [
        "> multiprocessing: Runs multiple processes, each with its own memory\n",
        "Bypasses the GIL, so tasks run in parallel."
      ],
      "metadata": {
        "id": "SOLdZgAZUIKA"
      }
    },
    {
      "cell_type": "code",
      "source": [
        "import multiprocessing\n",
        "\n",
        "def task():\n",
        "    print(\"Run\")\n",
        "\n",
        "p = multiprocessing.Process(target=task)\n",
        "p.start()"
      ],
      "metadata": {
        "id": "ucxgLwqhUPGE"
      },
      "execution_count": null,
      "outputs": []
    },
    {
      "cell_type": "markdown",
      "source": [
        "**Ques10. What are the advantages of using logging in a program?**\n",
        "\n",
        "Ans10.\n",
        "1. Helps Debugging:\n",
        "Logging records detailed information about what the program is doing, making it easier to find and fix problems.\n",
        "\n",
        "2. Keeps a Permanent Record:\n",
        "Logs can be saved to files, so you can review program activity even after it has finished running.\n",
        "\n",
        "3. Provides Different Levels of Messages:\n",
        "You can categorize logs by importance (e.g., INFO, WARNING, ERROR), helping you focus on what matters most.\n",
        "\n",
        "4. Better than Print Statements:\n",
        "Unlike print, logging can be turned on or off and can be configured to output to different places (files, consoles, etc.).\n",
        "\n",
        "**Ques11. What is memory management in Python?**\n",
        "\n",
        "Ans11. Memory management in Python refers to how the language allocates, uses, and frees up memory while your program runs.\n",
        "\n",
        "**Ques12. What are the basic steps involved in exception handling in Python?**\n",
        "\n",
        "Ans12.Exception handling in Python is about managing errors so your program doesn’t crash unexpectedly:\n",
        "\n",
        ">try: Put the code that might cause an error inside a try block."
      ],
      "metadata": {
        "id": "oR8JkR7ZUUw2"
      }
    },
    {
      "cell_type": "code",
      "source": [
        "try:\n",
        "  print(10/0)"
      ],
      "metadata": {
        "id": "2vTaiRnkUnMn"
      },
      "execution_count": null,
      "outputs": []
    },
    {
      "cell_type": "markdown",
      "source": [
        ">Catch Exceptions with except: Each except handles a specific type of error"
      ],
      "metadata": {
        "id": "WV3I2MQTUp1h"
      }
    },
    {
      "cell_type": "code",
      "source": [
        "except Exception as e:\n",
        "      print(\"error is\",e)"
      ],
      "metadata": {
        "id": "xmR-icXSUtRh"
      },
      "execution_count": null,
      "outputs": []
    },
    {
      "cell_type": "markdown",
      "source": [
        "> finally: Use finally Block"
      ],
      "metadata": {
        "id": "PT_KstxUUwIW"
      }
    },
    {
      "cell_type": "code",
      "source": [
        "finally:\n",
        "  print(\"this will run the code\")\n",
        "~~~\n",
        "all together:\n",
        "~~~\n",
        "try:\n",
        "  print(10/0)\n",
        "except ZeroDivisionError as e:\n",
        "  print(\"error is:\",e)\n",
        "finally:\n",
        "  print(\"this will run the code\")"
      ],
      "metadata": {
        "id": "FzUbx2P_U8bJ"
      },
      "execution_count": null,
      "outputs": []
    },
    {
      "cell_type": "markdown",
      "source": [
        "**Ques13. Why is memory management important in Python?**\n",
        "\n",
        "Ans13. Memory management is important in Python because it helps ensure that your programs run efficiently and reliably.Memory management in Python is crucial because it keeps your program fast, stable, and resource-friendly by automatically managing how memory is used and freed.\n",
        "\n",
        "**Ques14. What is the role of try and except in exception handling?**\n",
        "\n",
        "Ans14.>try: Put the code that might cause an error inside a try block.\n",
        "Catch Exceptions with except: Each except handles a specific type of error"
      ],
      "metadata": {
        "id": "7YktxPugU-2G"
      }
    },
    {
      "cell_type": "code",
      "source": [
        "try:\n",
        "  print(10/0)\n",
        "except ZeroDivisionError as e:\n",
        "  print(\"error is:\",e)\n",
        "finally:\n",
        "  print(\"this will run the code\")"
      ],
      "metadata": {
        "colab": {
          "base_uri": "https://localhost:8080/"
        },
        "id": "tcXQ2Cb5VSrw",
        "outputId": "fcef9c01-ae7f-43de-e576-99a1443bff5e"
      },
      "execution_count": null,
      "outputs": [
        {
          "output_type": "stream",
          "name": "stdout",
          "text": [
            "error is: division by zero\n",
            "this will run the code\n"
          ]
        }
      ]
    },
    {
      "cell_type": "markdown",
      "source": [
        "**Ques15. How does Python's garbage collection system work?**\n",
        "\n",
        "Ans15. Python’s garbage collection (GC) system automatically manages memory by removing objects that are no longer needed so that memory can be reused.\n",
        "\n",
        "**Ques16. What is the purpose of the else block in exception handling?**\n",
        "\n",
        "Ans16. The else block in Python exception handling is used to run code only if no exceptions were raised in the try block."
      ],
      "metadata": {
        "id": "Nwv-HNetVWGC"
      }
    },
    {
      "cell_type": "code",
      "source": [
        "try:\n",
        "    result = 10 / 2\n",
        "except ZeroDivisionError:\n",
        "    print(\"Cannot divide by zero.\")\n",
        "else:\n",
        "    print(\"Division successful! Result is\", result)"
      ],
      "metadata": {
        "colab": {
          "base_uri": "https://localhost:8080/"
        },
        "id": "F6H5dx3IVdLu",
        "outputId": "8e0ee837-9635-4431-de4b-09360ce54c18"
      },
      "execution_count": null,
      "outputs": [
        {
          "output_type": "stream",
          "name": "stdout",
          "text": [
            "Division successful! Result is 5.0\n"
          ]
        }
      ]
    },
    {
      "cell_type": "markdown",
      "source": [
        "**Ques17. What are the common logging levels in Python?**\n",
        "\n",
        "Ans17.Python’s logging module provides different logging levels to indicate the\n",
        "mportance of messages."
      ],
      "metadata": {
        "id": "3Uxh-U5FVjMw"
      }
    },
    {
      "cell_type": "markdown",
      "source": [
        "> **DEBUG:** For detailed troubleshooting info\n",
        "\n",
        ">**INFO**: General operational messages\n",
        "\n",
        ">**WARNING**: Alerts about potential issues\n",
        "\n",
        ">**ERROR**: Serious problems that affect functionality\n",
        "\n",
        ">**CRITICAL**: Very severe errors causing program failure\n",
        "\n",
        "**Que18. What is the difference between os.fork() and multiprocessing in Python**\n",
        "\n",
        "Ans18.os.fork():A low-level function available on Unix/Linux systems only.\n",
        "It creates a child process by duplicating the current process.\n",
        "Both parent and child processes continue running from the same point in the code.\n",
        "**multiprocessing Module**:A high-level Python module for creating and managing separate processes.Works on all platforms (Windows, macOS, Linux).\n",
        "Provides easy-to-use classes like Process, Queue, Pool, etc.\n",
        "\n",
        "**Ques19.  What is the importance of closing a file in Python?**\n",
        "\n",
        "Ans19. Closing a file in Python is important to ensure that your program uses system resources properly and does not lose data.\n",
        "\n",
        "**Ques20. What is the difference between file.read() and file.readline() in Python0**\n",
        "\n",
        "Ans20. file.read():in this we can read the whole file in one go."
      ],
      "metadata": {
        "id": "AC-OEfpoVz0H"
      }
    },
    {
      "cell_type": "code",
      "source": [
        "with open(\"file.txt\",\"r\")as f:\n",
        "   r=f.read()\n",
        "   print(r)\n",
        "\n",
        "file.readline: in this we can read first line of our file.\n",
        "\n",
        "with open(\"file.txt\",\"r\")as f:\n",
        "   r=f.readline()\n",
        "   print(r)"
      ],
      "metadata": {
        "id": "7dR0g5aLWjMT"
      },
      "execution_count": null,
      "outputs": []
    },
    {
      "cell_type": "markdown",
      "source": [
        "**Ques21. What is the logging module in Python used for**\n",
        "\n",
        "Ans21.The logging module in Python is used to record messages that describe events happening in your program. It helps you track errors, monitor performance, and understand how your code is running — without using print() statements.\n",
        "\n",
        "**Ques22. What is the os module in Python used for in file handling?**\n",
        "\n",
        "Ans22. The os module is used to interact with the operating system. In file handling, it helps with:"
      ],
      "metadata": {
        "id": "dSQkGRQIWmMK"
      }
    },
    {
      "cell_type": "markdown",
      "source": [
        ">**Checking if files or directories exist**: os.path.exists()\n",
        "\n",
        ">**Creating directories**: os.mkdir(), os.makedirs()\n",
        "\n",
        ">**Listing contents of directories**: os.listdir()\n",
        "\n",
        ">**Deleting files or directories**: os.remove(), os.rmdir()\n",
        "\n",
        ">**Renaming or moving files**: os.rename()\n",
        "\n",
        ">**setting the current working directory**: os.getcwd(), os.chdir()\n",
        "\n",
        ">**Building platform-independent file paths**: os.path.join()"
      ],
      "metadata": {
        "id": "C22hDXeBWs5A"
      }
    },
    {
      "cell_type": "markdown",
      "source": [
        "**Ques23. What are the challenges associated with memory management in Python?**\n",
        "\n",
        "Ans23. Poor memory management can lead to various issues such as memory leaks, fragmentation, excessive paging, and crashes, which indirectly degrade system performance and stability.\n",
        "\n",
        "**Ques24.  How do you raise an exception manually in Python?**\n",
        "\n",
        "Ans24. In Python, we can raise an exception manually using the raise keyword."
      ],
      "metadata": {
        "id": "cfub93zvXAHx"
      }
    },
    {
      "cell_type": "code",
      "source": [
        "class MyCustomError(Exception):\n",
        "    pass\n",
        "\n",
        "raise MyCustomError(\"Something custom went wrong\")"
      ],
      "metadata": {
        "id": "nH4TpVOsXTNX"
      },
      "execution_count": null,
      "outputs": []
    },
    {
      "cell_type": "markdown",
      "source": [
        "**Ques25. Why is it important to use multithreading in certain applications**\n",
        "\n",
        "Ans25.Multithreading is important in certain applications for several reasons:\n",
        "\n",
        "1. **Improved Responsiveness:** In applications with user interfaces or network operations, multithreading can prevent the application from freezing while waiting for a task to complete. One thread can handle the long-running task while another thread keeps the UI responsive.\n",
        "\n",
        "2. **Better Resource Utilization:** For I/O-bound tasks (tasks that spend a lot of time waiting for input/output operations, like reading from a file or network), multithreading allows the CPU to switch to another thread while one thread is waiting. This makes better use of available resources.\n",
        "\n",
        "3. **Simplified Design for Concurrent Tasks:** When an application needs to perform multiple tasks concurrently (like handling multiple client connections in a server), using separate threads for each task can simplify the program's structure and make it easier to manage.\n",
        "\n",
        "4. **Parallelism (in some cases):** Although Python's Global Interpreter Lock (GIL) limits true parallel execution of CPU-bound tasks in multiple threads on multi-core processors, multithreading can still provide a form of concurrency that is beneficial for I/O-bound operations. In other languages without a GIL, multithreading can achieve true parallelism for CPU-bound tasks"
      ],
      "metadata": {
        "id": "zRxtVN-nXUMf"
      }
    },
    {
      "cell_type": "markdown",
      "source": [
        "\n",
        "\n",
        "# ***PRACTICAL QUESTIONS***"
      ],
      "metadata": {
        "id": "a_4F_ep8X8FH"
      }
    },
    {
      "cell_type": "markdown",
      "source": [
        "# Ques1. How can you open a file for writing in Python and write a string to it?\n"
      ],
      "metadata": {
        "id": "ayfNjdj1YMM9"
      }
    },
    {
      "cell_type": "code",
      "source": [
        "with open(\"file.txt\",\"w\") as f:\n",
        "  f.write(\"Hey, my name is divya\")\n",
        "  f.write(\"\\nI am in DA course\")\n"
      ],
      "metadata": {
        "id": "6hLpAIjMYjkL"
      },
      "execution_count": 2,
      "outputs": []
    },
    {
      "cell_type": "markdown",
      "source": [
        "# Ques2. Write a Python program to read the contents of a file and print each line?\n"
      ],
      "metadata": {
        "id": "4QwCBfkXYnEG"
      }
    },
    {
      "cell_type": "code",
      "source": [
        "with open(\"file.txt\",\"r\") as f:\n",
        "  print(f.read())"
      ],
      "metadata": {
        "colab": {
          "base_uri": "https://localhost:8080/"
        },
        "id": "KaTmGLgPYp3p",
        "outputId": "7632012c-61bb-481d-f33c-b8133381a4e7"
      },
      "execution_count": 9,
      "outputs": [
        {
          "output_type": "stream",
          "name": "stdout",
          "text": [
            "Hey, my name is divya\n",
            "I am in DA course\n"
          ]
        }
      ]
    },
    {
      "cell_type": "markdown",
      "source": [
        "#Ques3. How would you handle a case where the file doesn't exist while trying to open it for reading?\n"
      ],
      "metadata": {
        "id": "2MTbMlFCZdke"
      }
    },
    {
      "cell_type": "code",
      "source": [
        "try:\n",
        "  with open(\"file_test.txt\",\"r\") as f:\n",
        "    r = f.read()\n",
        "    print(r)\n",
        "except FileNotFoundError as e:\n",
        "  print(\"error is:\",e)"
      ],
      "metadata": {
        "colab": {
          "base_uri": "https://localhost:8080/"
        },
        "id": "jKPCMG6sZgx9",
        "outputId": "4a644fad-1dfb-4cd3-d7b5-8a9790356f41"
      },
      "execution_count": null,
      "outputs": [
        {
          "output_type": "stream",
          "name": "stdout",
          "text": [
            "error is: [Errno 2] No such file or directory: 'file_test.txt'\n"
          ]
        }
      ]
    },
    {
      "cell_type": "markdown",
      "source": [
        "#Ques4. Write a Python script that reads from one file and writes its content to another file?\n"
      ],
      "metadata": {
        "id": "GvlQxryhZnZM"
      }
    },
    {
      "cell_type": "code",
      "source": [
        "with open(\"file.txt\",\"r\")as f:\n",
        "  print(f.read())\n",
        "\n",
        "with open(\"file.txt\",\"r\") as firstfile:\n",
        "  with open(\"second_file.txt\",\"a\") as secondfile:\n",
        "    for line in firstfile:\n",
        "      secondfile.write(line)\n",
        "\n",
        "with open(\"second_file.txt\",\"r\")as f:\n",
        "  print(f.read())"
      ],
      "metadata": {
        "colab": {
          "base_uri": "https://localhost:8080/"
        },
        "id": "NL2fvsXcZp2N",
        "outputId": "9ec1b3d5-e3ed-4b0f-d531-a76b8ab50fa3"
      },
      "execution_count": 10,
      "outputs": [
        {
          "output_type": "stream",
          "name": "stdout",
          "text": [
            "Hey, my name is divya\n",
            "I am in DA course\n",
            "Hey, my name is divya\n",
            "I am in DA course\n"
          ]
        }
      ]
    },
    {
      "cell_type": "markdown",
      "source": [
        "#Ques5. How would you catch and handle division by zero error in Python?\n"
      ],
      "metadata": {
        "id": "s2WRdOivbI5I"
      }
    },
    {
      "cell_type": "code",
      "source": [
        "try:\n",
        "  print(10/0)\n",
        "except ZeroDivisionError as e:\n",
        "  print(\"error is:\",e)"
      ],
      "metadata": {
        "colab": {
          "base_uri": "https://localhost:8080/"
        },
        "id": "625oou1ebMF4",
        "outputId": "22c575be-ee59-4adb-ca12-bf8225adcb8d"
      },
      "execution_count": null,
      "outputs": [
        {
          "output_type": "stream",
          "name": "stdout",
          "text": [
            "error is: division by zero\n"
          ]
        }
      ]
    },
    {
      "cell_type": "markdown",
      "source": [
        "#Ques6. Write a Python program that logs an error message to a log file when a division by zero exception occurs?\n"
      ],
      "metadata": {
        "id": "XC8CCwN0bRIz"
      }
    },
    {
      "cell_type": "code",
      "source": [
        "import logging\n",
        "logging.basicConfig(filename='error.log', level=logging.ERROR)\n",
        "\n",
        "try:\n",
        "  result = 10 / 0\n",
        "except ZeroDivisionError as e:\n",
        "  logging.error(\"Division by zero error occurred: %s\", e)\n",
        "  print(\"An error occurred and has been logged.\")"
      ],
      "metadata": {
        "colab": {
          "base_uri": "https://localhost:8080/"
        },
        "id": "GDa6e0N-bSVC",
        "outputId": "4a177eb2-26c8-4e32-abde-3d0395604e5d"
      },
      "execution_count": null,
      "outputs": [
        {
          "output_type": "stream",
          "name": "stderr",
          "text": [
            "ERROR:root:Division by zero error occurred: division by zero\n"
          ]
        },
        {
          "output_type": "stream",
          "name": "stdout",
          "text": [
            "An error occurred and has been logged.\n"
          ]
        }
      ]
    },
    {
      "cell_type": "markdown",
      "source": [
        "#Ques7. How do you log information at different levels (INFO, ERROR, WARNING) in Python using the logging module?\n"
      ],
      "metadata": {
        "id": "DyVUa7XBbXHK"
      }
    },
    {
      "cell_type": "code",
      "source": [
        "import logging\n",
        "logging.basicConfig(filename=\"test_log.txt\",level=logging.INFO)\n",
        "\n",
        "logging.info(\"this is info message\")\n",
        "logging.error(\"this is error message\")\n",
        "logging.warning(\"this is last warning\")\n",
        "\n",
        "logging.shutdown()"
      ],
      "metadata": {
        "colab": {
          "base_uri": "https://localhost:8080/"
        },
        "id": "Nts6Y8p_bYVm",
        "outputId": "8b1fcef5-2ce8-40fc-cd32-e53cb041f81e"
      },
      "execution_count": null,
      "outputs": [
        {
          "output_type": "stream",
          "name": "stderr",
          "text": [
            "ERROR:root:this is error message\n",
            "WARNING:root:this is last warning\n"
          ]
        }
      ]
    },
    {
      "cell_type": "markdown",
      "source": [
        "#Ques8.  Write a program to handle a file opening error using exception handling?\n"
      ],
      "metadata": {
        "id": "-JdXiNEVbeXE"
      }
    },
    {
      "cell_type": "code",
      "source": [
        "try:\n",
        "  with open(\"test.txt\",\"r\") as f:\n",
        "    r = f.read()\n",
        "    print(r)\n",
        "except FileNotFoundError as e:\n",
        "  print(\"error is:\",e)"
      ],
      "metadata": {
        "colab": {
          "base_uri": "https://localhost:8080/"
        },
        "id": "Tq5CDl9hbfoP",
        "outputId": "54723f4f-eb94-44d6-968f-96acfd906b0b"
      },
      "execution_count": null,
      "outputs": [
        {
          "output_type": "stream",
          "name": "stdout",
          "text": [
            "error is: [Errno 2] No such file or directory: 'test.txt'\n"
          ]
        }
      ]
    },
    {
      "cell_type": "markdown",
      "source": [
        "#Ques9. How can you read a file line by line and store its content in a list in Python?\n"
      ],
      "metadata": {
        "id": "KKTAx2HJbkjX"
      }
    },
    {
      "cell_type": "code",
      "source": [
        "with open(\"file.txt\",\"r\")as f:\n",
        "  r=f.readlines()\n",
        "  print(r)"
      ],
      "metadata": {
        "colab": {
          "base_uri": "https://localhost:8080/"
        },
        "id": "iiGaK895b3Ts",
        "outputId": "1c7ba220-50bc-4c98-a6de-ed023c95b846"
      },
      "execution_count": 11,
      "outputs": [
        {
          "output_type": "stream",
          "name": "stdout",
          "text": [
            "['Hey, my name is divya\\n', 'I am in DA course']\n"
          ]
        }
      ]
    },
    {
      "cell_type": "markdown",
      "source": [
        "#Ques10.  How can you append data to an existing file in Python?\n"
      ],
      "metadata": {
        "id": "JMdTrYKxb85V"
      }
    },
    {
      "cell_type": "code",
      "source": [
        "with open(\"file.txt\",\"a\")as f:\n",
        "  f.write(\"\\nmy fees is 20000\")"
      ],
      "metadata": {
        "id": "uPYbw1xKcAy1"
      },
      "execution_count": 37,
      "outputs": []
    },
    {
      "cell_type": "markdown",
      "source": [
        "#Ques11. Write a Python program that uses a try-except block to handle an error when attempting to access a dictionary key that doesn't exist?\n"
      ],
      "metadata": {
        "id": "DgM8U8qicEmb"
      }
    },
    {
      "cell_type": "code",
      "source": [
        "try:\n",
        " data={\"name\":\"divya\",\"course\":\"DA\"}\n",
        " print(data[\"age\"])\n",
        "except KeyError as e:\n",
        "  print(\"here there is no key:\",e)"
      ],
      "metadata": {
        "colab": {
          "base_uri": "https://localhost:8080/"
        },
        "id": "9Y4SIF5ocHxg",
        "outputId": "8c211786-e81d-48d0-a5db-2fff33da9ef6"
      },
      "execution_count": null,
      "outputs": [
        {
          "output_type": "stream",
          "name": "stdout",
          "text": [
            "here there is no key: 'age'\n"
          ]
        }
      ]
    },
    {
      "cell_type": "markdown",
      "source": [
        "#Ques12. Write a program that demonstrates using multiple except blocks to handle different types of exceptions?\n"
      ],
      "metadata": {
        "id": "exR04tEicMul"
      }
    },
    {
      "cell_type": "code",
      "source": [
        "try:\n",
        "  x=int(input(\"enter a number:\"))\n",
        "  print(10/x)\n",
        "\n",
        "except ZeroDivisionError as e:\n",
        "  print(\"error is:\",e)\n",
        "except ValueError as e:\n",
        "  print(\"error is:\",e)"
      ],
      "metadata": {
        "colab": {
          "base_uri": "https://localhost:8080/"
        },
        "id": "Eq52j4xmcN_0",
        "outputId": "3fd4f0aa-e614-458c-a62a-6464655d1ee2"
      },
      "execution_count": null,
      "outputs": [
        {
          "output_type": "stream",
          "name": "stdout",
          "text": [
            "enter a number:aqnshi\n",
            "error is: invalid literal for int() with base 10: 'aqnshi'\n"
          ]
        }
      ]
    },
    {
      "cell_type": "markdown",
      "source": [
        "#Ques13.  How would you check if a file exists before attempting to read it in Python?\n"
      ],
      "metadata": {
        "id": "GDT1mgRycU66"
      }
    },
    {
      "cell_type": "code",
      "source": [
        "import os\n",
        "if os.path.exists(\"file.txt\"):\n",
        " print(\"file exixts:\")\n",
        " with open(\"file.txt\",\"r\")as f:\n",
        "   r=f.read()\n",
        "   print(r)\n",
        "else:\n",
        "  print(\"file not found\")\n"
      ],
      "metadata": {
        "colab": {
          "base_uri": "https://localhost:8080/"
        },
        "id": "NXYRr02FTrGA",
        "outputId": "e6f6275c-fb30-4399-dc7b-7d9a299eb33f"
      },
      "execution_count": 39,
      "outputs": [
        {
          "output_type": "stream",
          "name": "stdout",
          "text": [
            "file exixts:\n",
            "Hey, my name is divya\n",
            "I am in DA course\n",
            "my fees is 20000\n",
            "my fees is 20000\n",
            "my fees is 20000\n",
            "my fees is 20000\n",
            "my fees is 20000\n"
          ]
        }
      ]
    },
    {
      "cell_type": "markdown",
      "source": [
        "#Ques14.  Write a program that uses the logging module to log both informational and error messages?\n"
      ],
      "metadata": {
        "id": "B70HucSccwjJ"
      }
    },
    {
      "cell_type": "code",
      "source": [
        "import logging\n",
        "logging.basicConfig(filename=\"error.log\",level=logging.INFO)\n",
        "\n",
        "logging.info(\"this is informational message\")\n",
        "logging.error(\"this is error message\")\n",
        "\n",
        "logging.shutdown()"
      ],
      "metadata": {
        "colab": {
          "base_uri": "https://localhost:8080/"
        },
        "id": "-9AApS21c1Zk",
        "outputId": "a2e9f4d3-6b64-4614-d962-6cd13d82b010"
      },
      "execution_count": null,
      "outputs": [
        {
          "output_type": "stream",
          "name": "stderr",
          "text": [
            "ERROR:root:this is error message\n"
          ]
        }
      ]
    },
    {
      "cell_type": "markdown",
      "source": [
        "#Ques15. Write a Python program that prints the content of a file and handles the case when the file is empty?\n"
      ],
      "metadata": {
        "id": "n6eVrvbNc4vN"
      }
    },
    {
      "cell_type": "code",
      "source": [
        "with open(\"empty.txt\",\"w\")as f:\n",
        " f.write(\"\")\n",
        "\n",
        "size = os.path.getsize(\"empty.txt\")\n",
        "\n",
        "if size==0:\n",
        "  print(\"file is empty\")\n",
        "else:\n",
        "  with open(\"empty.txt\",\"r\")as f:\n",
        "    r=f.read()\n",
        "    print(r)"
      ],
      "metadata": {
        "colab": {
          "base_uri": "https://localhost:8080/"
        },
        "id": "7bKM9arLc7Ay",
        "outputId": "c8177530-e1b9-4d63-9609-9acfaf757e66"
      },
      "execution_count": null,
      "outputs": [
        {
          "output_type": "stream",
          "name": "stdout",
          "text": [
            "file is empty\n"
          ]
        }
      ]
    },
    {
      "cell_type": "markdown",
      "source": [
        "#Ques16. Demonstrate how to use memory profiling to check the memory usage of a small program?"
      ],
      "metadata": {
        "id": "Tr8Cqrm-c9z7"
      }
    },
    {
      "cell_type": "code",
      "source": [
        "from memory_profiler import profile\n",
        "!pip install memory_profiler\n",
        "@profile\n",
        "def my_function():\n",
        "    a = [1] * 10\n",
        "    b = [2] * 20\n",
        "    return a, b\n",
        "\n",
        "my_function()"
      ],
      "metadata": {
        "colab": {
          "base_uri": "https://localhost:8080/"
        },
        "id": "tuNTuA7uPBaG",
        "outputId": "4462d823-31c6-4c2a-d114-107d68971623"
      },
      "execution_count": 31,
      "outputs": [
        {
          "output_type": "stream",
          "name": "stdout",
          "text": [
            "Requirement already satisfied: memory_profiler in /usr/local/lib/python3.12/dist-packages (0.61.0)\n",
            "Requirement already satisfied: psutil in /usr/local/lib/python3.12/dist-packages (from memory_profiler) (5.9.5)\n",
            "ERROR: Could not find file /tmp/ipython-input-2859365962.py\n"
          ]
        },
        {
          "output_type": "execute_result",
          "data": {
            "text/plain": [
              "([1, 1, 1, 1, 1, 1, 1, 1, 1, 1],\n",
              " [2, 2, 2, 2, 2, 2, 2, 2, 2, 2, 2, 2, 2, 2, 2, 2, 2, 2, 2, 2])"
            ]
          },
          "metadata": {},
          "execution_count": 31
        }
      ]
    },
    {
      "cell_type": "markdown",
      "source": [
        "#Ques17.  Write a Python program to create and write a list of numbers to a file, one number per line\n",
        "data=[1,2,3,4,5,6]\n"
      ],
      "metadata": {
        "id": "-mBSZBs6VOJd"
      }
    },
    {
      "cell_type": "code",
      "source": [
        "import csv\n",
        "data=[1,2,3,4,5,6]\n",
        "with open(\"file_csv.csv\",\"w\")as f:\n",
        "  writer=csv.writer(f)\n",
        "  for num in data:\n",
        "   writer.writerow([num])\n",
        "\n",
        "with open(\"file_csv.csv\",\"r\")as f:\n",
        "  reader=csv.reader(f)\n",
        "  for row in reader:\n",
        "    print(row)"
      ],
      "metadata": {
        "colab": {
          "base_uri": "https://localhost:8080/"
        },
        "id": "dlHvQcEvVaAy",
        "outputId": "6ad8907a-b5b7-46dc-e767-2bfd154b142e"
      },
      "execution_count": 20,
      "outputs": [
        {
          "output_type": "stream",
          "name": "stdout",
          "text": [
            "['1']\n",
            "['2']\n",
            "['3']\n",
            "['4']\n",
            "['5']\n",
            "['6']\n"
          ]
        }
      ]
    },
    {
      "cell_type": "markdown",
      "source": [
        "#Ques18. How would you implement a basic logging setup that logs to a file with rotation after 1MB?\n"
      ],
      "metadata": {
        "id": "cBz4ApAiVbTW"
      }
    },
    {
      "cell_type": "code",
      "source": [
        "import logging\n",
        "from logging.handlers import RotatingFileHandler\n",
        "\n",
        "logging.basicConfig(filename=\"test_log.txt\",level=logging.INFO)\n",
        "\n",
        "logging.info(\"this is info message\")\n",
        "logging.error(\"this is error message\")\n",
        "logging.warning(\"this is last warning\")\n",
        "\n",
        "logging.shutdown()"
      ],
      "metadata": {
        "id": "ZLkXwHlwVevo"
      },
      "execution_count": null,
      "outputs": []
    },
    {
      "cell_type": "markdown",
      "source": [
        "#Ques19. Write a program that handles both IndexError and KeyError using a try-except block?\n"
      ],
      "metadata": {
        "id": "J3DPxbsiVjvt"
      }
    },
    {
      "cell_type": "code",
      "source": [
        "try:\n",
        "  dic={\"name\":\"divya\",\"age\":20}\n",
        "  dic[\"course\"]\n",
        "  l1=[1,2,3,4]\n",
        "  l1[5]\n",
        "except (KeyError,IndexError) as e:\n",
        "  print(\"error is:\",e)"
      ],
      "metadata": {
        "colab": {
          "base_uri": "https://localhost:8080/"
        },
        "id": "ofvv8i5LVk3j",
        "outputId": "23d073be-6403-4c03-86f8-ccfc6a8403dd"
      },
      "execution_count": 21,
      "outputs": [
        {
          "output_type": "stream",
          "name": "stdout",
          "text": [
            "error is: 'course'\n"
          ]
        }
      ]
    },
    {
      "cell_type": "markdown",
      "source": [
        "#Ques20. How would you open a file and read its contents using a context manager in Python?\n"
      ],
      "metadata": {
        "id": "nqFkO8nfVpSp"
      }
    },
    {
      "cell_type": "code",
      "source": [
        "with open(\"file.txt\",\"r\")as f:\n",
        "  r=f.read()\n",
        "  print(r)"
      ],
      "metadata": {
        "colab": {
          "base_uri": "https://localhost:8080/"
        },
        "id": "ADaGQcJuVwp_",
        "outputId": "eb5ee0bb-1c9c-407a-baaa-47eb06bdd0dc"
      },
      "execution_count": 40,
      "outputs": [
        {
          "output_type": "stream",
          "name": "stdout",
          "text": [
            "Hey, my name is divya\n",
            "I am in DA course\n",
            "my fees is 20000\n",
            "my fees is 20000\n",
            "my fees is 20000\n",
            "my fees is 20000\n",
            "my fees is 20000\n"
          ]
        }
      ]
    },
    {
      "cell_type": "markdown",
      "source": [
        "#Ques21. Write a Python program that reads a file and prints the number of occurrences of a specific word?\n"
      ],
      "metadata": {
        "id": "9fYVvg0CVuX7"
      }
    },
    {
      "cell_type": "code",
      "source": [
        "with open(\"file.txt\",\"r\")as f:\n",
        "  r=f.read()\n",
        "  print(r.count(\"divya\"))"
      ],
      "metadata": {
        "colab": {
          "base_uri": "https://localhost:8080/"
        },
        "id": "XMz8UqkTV0tV",
        "outputId": "9f3e0d0b-3438-416c-f694-f8ad2b5eccc0"
      },
      "execution_count": 41,
      "outputs": [
        {
          "output_type": "stream",
          "name": "stdout",
          "text": [
            "1\n"
          ]
        }
      ]
    },
    {
      "cell_type": "markdown",
      "source": [
        "#Ques22. How can you check if a file is empty before attempting to read its contents?\n"
      ],
      "metadata": {
        "id": "BhibDuNsV4Qb"
      }
    },
    {
      "cell_type": "code",
      "source": [
        "import os\n",
        "size = os.path.getsize(\"file.txt\")\n",
        "\n",
        "if size==0:\n",
        "  print(\"file is empty\")\n",
        "else:\n",
        "  with open(\"file.txt\",\"r\")as f:\n",
        "    r=f.read()\n",
        "    print(\"this file is not empty:\\n\",r)\n"
      ],
      "metadata": {
        "colab": {
          "base_uri": "https://localhost:8080/"
        },
        "id": "NDWkpzG7V7Pk",
        "outputId": "bd3306f2-50f7-4ef1-c072-c7df7ff19c78"
      },
      "execution_count": 42,
      "outputs": [
        {
          "output_type": "stream",
          "name": "stdout",
          "text": [
            "this file is not empty:\n",
            " Hey, my name is divya\n",
            "I am in DA course\n",
            "my fees is 20000\n",
            "my fees is 20000\n",
            "my fees is 20000\n",
            "my fees is 20000\n",
            "my fees is 20000\n"
          ]
        }
      ]
    },
    {
      "cell_type": "markdown",
      "source": [
        "#Ques23. Write a Python program that writes to a log file when an error occurs during file handling.\n"
      ],
      "metadata": {
        "id": "5mXbtNK7WBZX"
      }
    },
    {
      "cell_type": "code",
      "source": [
        "try:\n",
        "  with open(\"data.txt\", \"r\") as file:\n",
        "      c = file.read()\n",
        "      print(c)\n",
        "\n",
        "except Exception as e:\n",
        "    with open(\"error_log.txt\", \"a\") as log_file:\n",
        "        log_file.write(f\"Error: {str(e)}\\n\")\n"
      ],
      "metadata": {
        "id": "UfbaAJ7UWENQ"
      },
      "execution_count": 43,
      "outputs": []
    },
    {
      "cell_type": "markdown",
      "source": [
        "output:\n",
        "error:[errno 2]no such file or directory:'data .txt'"
      ],
      "metadata": {
        "id": "Gj8LzBIrPw7I"
      }
    }
  ]
}